{
 "cells": [
  {
   "cell_type": "markdown",
   "metadata": {},
   "source": [
    "# EXECUTIVE SUMMARY"
   ]
  },
  {
   "cell_type": "markdown",
   "metadata": {},
   "source": [
    "<B>MODULE 2 SUMMATIVE LAB"
   ]
  },
  {
   "cell_type": "markdown",
   "metadata": {},
   "source": [
    "In this module 2 summative lab, i explored a football and weather data to find key information regarding the goals scored, wins and the percentage of rainy day games during the 2011 season. I firstly examined all the data within the football SQL database and then using it to get team all of the unique team names, the goals scored, and the number of wins using queries."
   ]
  },
  {
   "cell_type": "markdown",
   "metadata": {},
   "source": [
    "<b>IMPORTING PACKAGES"
   ]
  },
  {
   "cell_type": "markdown",
   "metadata": {},
   "source": [
    "Firstly i imported all the necessary packages such as pandas and sqlite3, and i also connected to the SQL database."
   ]
  },
  {
   "cell_type": "code",
   "execution_count": 3,
   "metadata": {},
   "outputs": [],
   "source": [
    "#importing necessary packages\n",
    "import pandas as pd\n",
    "import numpy as np\n",
    "import matplotlib.pyplot as plt\n",
    "%matplotlib inline\n",
    "\n",
    "# connecting to the database\n",
    "import sqlite3 \n",
    "conn = sqlite3.connect('database.sqlite')\n",
    "cur = conn.cursor()"
   ]
  },
  {
   "cell_type": "markdown",
   "metadata": {},
   "source": [
    "<b>UNIQUE TEAM NAMES"
   ]
  },
  {
   "cell_type": "markdown",
   "metadata": {},
   "source": [
    "I seleted all the unique team names"
   ]
  },
  {
   "cell_type": "code",
   "execution_count": 5,
   "metadata": {},
   "outputs": [
    {
     "data": {
      "text/html": [
       "<div>\n",
       "<style scoped>\n",
       "    .dataframe tbody tr th:only-of-type {\n",
       "        vertical-align: middle;\n",
       "    }\n",
       "\n",
       "    .dataframe tbody tr th {\n",
       "        vertical-align: top;\n",
       "    }\n",
       "\n",
       "    .dataframe thead th {\n",
       "        text-align: right;\n",
       "    }\n",
       "</style>\n",
       "<table border=\"1\" class=\"dataframe\">\n",
       "  <thead>\n",
       "    <tr style=\"text-align: right;\">\n",
       "      <th></th>\n",
       "      <th>TeamName</th>\n",
       "    </tr>\n",
       "  </thead>\n",
       "  <tbody>\n",
       "    <tr>\n",
       "      <td>0</td>\n",
       "      <td>Bayern Munich</td>\n",
       "    </tr>\n",
       "    <tr>\n",
       "      <td>1</td>\n",
       "      <td>Dortmund</td>\n",
       "    </tr>\n",
       "    <tr>\n",
       "      <td>2</td>\n",
       "      <td>Leverkusen</td>\n",
       "    </tr>\n",
       "    <tr>\n",
       "      <td>3</td>\n",
       "      <td>RB Leipzig</td>\n",
       "    </tr>\n",
       "    <tr>\n",
       "      <td>4</td>\n",
       "      <td>Schalke 04</td>\n",
       "    </tr>\n",
       "    <tr>\n",
       "      <td>...</td>\n",
       "      <td>...</td>\n",
       "    </tr>\n",
       "    <tr>\n",
       "      <td>123</td>\n",
       "      <td>Burnley</td>\n",
       "    </tr>\n",
       "    <tr>\n",
       "      <td>124</td>\n",
       "      <td>Blackpool</td>\n",
       "    </tr>\n",
       "    <tr>\n",
       "      <td>125</td>\n",
       "      <td>Swansea</td>\n",
       "    </tr>\n",
       "    <tr>\n",
       "      <td>126</td>\n",
       "      <td>Cardiff</td>\n",
       "    </tr>\n",
       "    <tr>\n",
       "      <td>127</td>\n",
       "      <td>Bournemouth</td>\n",
       "    </tr>\n",
       "  </tbody>\n",
       "</table>\n",
       "<p>128 rows × 1 columns</p>\n",
       "</div>"
      ],
      "text/plain": [
       "          TeamName\n",
       "0    Bayern Munich\n",
       "1         Dortmund\n",
       "2       Leverkusen\n",
       "3       RB Leipzig\n",
       "4       Schalke 04\n",
       "..             ...\n",
       "123        Burnley\n",
       "124      Blackpool\n",
       "125        Swansea\n",
       "126        Cardiff\n",
       "127    Bournemouth\n",
       "\n",
       "[128 rows x 1 columns]"
      ]
     },
     "execution_count": 5,
     "metadata": {},
     "output_type": "execute_result"
    }
   ],
   "source": [
    "#selects unique names of teams\n",
    "cur.execute('''SELECT DISTINCT TeamName\n",
    "FROM Unique_Teams''')\n",
    "df_uniqueTN = pd.DataFrame(cur.fetchall()) \n",
    "df_uniqueTN.columns = [i[0] for i in cur.description] \n",
    "df_uniqueTN"
   ]
  },
  {
   "cell_type": "code",
   "execution_count": 6,
   "metadata": {},
   "outputs": [
    {
     "data": {
      "text/plain": [
       "array(['Bayern Munich', 'Dortmund', 'Leverkusen', 'RB Leipzig',\n",
       "       'Schalke 04', \"M'gladbach\", 'Wolfsburg', 'FC Koln', 'Hoffenheim',\n",
       "       'Hertha', 'Mainz', 'Hamburg', 'Werder Bremen', 'Ein Frankfurt',\n",
       "       'Augsburg', 'Freiburg', 'Stuttgart', 'Hannover', 'Ingolstadt',\n",
       "       'Darmstadt', 'Paderborn', 'Nurnberg', 'Braunschweig',\n",
       "       'Greuther Furth', 'Fortuna Dusseldorf', 'Kaiserslautern',\n",
       "       'St Pauli', 'Bochum', 'Karlsruhe', 'Bielefeld', 'Cottbus',\n",
       "       'Duisburg', 'Hansa Rostock', 'Aachen', 'Union Berlin',\n",
       "       'Heidenheim', 'Dresden', 'Sandhausen', 'Erzgebirge Aue', 'Kiel',\n",
       "       'Regensburg', 'Munich 1860', 'Wurzburger Kickers', 'Frankfurt FSV',\n",
       "       'Aalen', 'Oberhausen', 'Osnabruck', 'Koblenz', 'Ahlen', 'Wehen',\n",
       "       'CZ Jena', 'Offenbach', 'Essen', 'Burghausen', 'Unterhaching',\n",
       "       'Saarbrucken', 'Siegen', 'Babelsberg', 'Chemnitz', 'Ein Trier',\n",
       "       'Erfurt', 'F Koln', 'Gutersloh', 'Homburg', 'Leipzig', 'Lubeck',\n",
       "       'Mannheim', 'Meppen', 'Oldenburg', 'Reutlingen', 'Schweinfurt',\n",
       "       'Stuttgarter K', 'TB Berlin', 'Uerdingen', 'Ulm', 'Wattenscheid',\n",
       "       'Wuppertaler', 'Zwickau', 'RW Essen', \"M'Gladbach\", 'Arsenal',\n",
       "       'Aston Villa', 'Chelsea', 'Liverpool', 'Man City', 'Newcastle',\n",
       "       'Oldham', 'Sheffield United', 'Southampton', 'West Ham', 'Norwich',\n",
       "       'Tottenham', 'Everton', 'Ipswich', 'Leeds', 'Wimbledon',\n",
       "       'Blackburn', 'Coventry', 'Man United', 'QPR', 'Sheffield Weds',\n",
       "       'Swindon', 'Crystal Palace', 'Leicester', \"Nott'm Forest\",\n",
       "       'Bolton', 'Middlesbrough', 'Derby', 'Sunderland', 'Barnsley',\n",
       "       'Charlton', 'Watford', 'Bradford', 'Fulham', 'Birmingham',\n",
       "       'Middlesboro', 'West Brom', 'Portsmouth', 'Wolves', 'Wigan',\n",
       "       'Reading', 'Hull', 'Stoke', 'Burnley', 'Blackpool', 'Swansea',\n",
       "       'Cardiff', 'Bournemouth'], dtype=object)"
      ]
     },
     "execution_count": 6,
     "metadata": {},
     "output_type": "execute_result"
    }
   ],
   "source": [
    "#creates an array for the unique list of team names\n",
    "df_uniqueTN.TeamName.unique()"
   ]
  },
  {
   "cell_type": "markdown",
   "metadata": {},
   "source": [
    "<b>TOTAL NUMBER OF GOALS SCORED BY THE TEAM DURING THE 2011 SEASON"
   ]
  },
  {
   "cell_type": "markdown",
   "metadata": {},
   "source": [
    "I then created a query that will show the total goals scored by both the home team and the away team"
   ]
  },
  {
   "cell_type": "code",
   "execution_count": 11,
   "metadata": {},
   "outputs": [
    {
     "data": {
      "text/html": [
       "<div>\n",
       "<style scoped>\n",
       "    .dataframe tbody tr th:only-of-type {\n",
       "        vertical-align: middle;\n",
       "    }\n",
       "\n",
       "    .dataframe tbody tr th {\n",
       "        vertical-align: top;\n",
       "    }\n",
       "\n",
       "    .dataframe thead th {\n",
       "        text-align: right;\n",
       "    }\n",
       "</style>\n",
       "<table border=\"1\" class=\"dataframe\">\n",
       "  <thead>\n",
       "    <tr style=\"text-align: right;\">\n",
       "      <th></th>\n",
       "      <th>HomeTeam</th>\n",
       "      <th>ht_wins</th>\n",
       "      <th>AwayTeam</th>\n",
       "      <th>at_wins</th>\n",
       "    </tr>\n",
       "  </thead>\n",
       "  <tbody>\n",
       "    <tr>\n",
       "      <td>0</td>\n",
       "      <td>Man City</td>\n",
       "      <td>55</td>\n",
       "      <td>Swansea</td>\n",
       "      <td>12</td>\n",
       "    </tr>\n",
       "    <tr>\n",
       "      <td>1</td>\n",
       "      <td>Man United</td>\n",
       "      <td>52</td>\n",
       "      <td>Tottenham</td>\n",
       "      <td>19</td>\n",
       "    </tr>\n",
       "    <tr>\n",
       "      <td>2</td>\n",
       "      <td>Bayern Munich</td>\n",
       "      <td>49</td>\n",
       "      <td>Dortmund</td>\n",
       "      <td>6</td>\n",
       "    </tr>\n",
       "    <tr>\n",
       "      <td>3</td>\n",
       "      <td>Schalke 04</td>\n",
       "      <td>47</td>\n",
       "      <td>Bayern Munich</td>\n",
       "      <td>14</td>\n",
       "    </tr>\n",
       "    <tr>\n",
       "      <td>4</td>\n",
       "      <td>Greuther Furth</td>\n",
       "      <td>46</td>\n",
       "      <td>Dresden</td>\n",
       "      <td>12</td>\n",
       "    </tr>\n",
       "  </tbody>\n",
       "</table>\n",
       "</div>"
      ],
      "text/plain": [
       "         HomeTeam  ht_wins       AwayTeam  at_wins\n",
       "0        Man City       55        Swansea       12\n",
       "1      Man United       52      Tottenham       19\n",
       "2   Bayern Munich       49       Dortmund        6\n",
       "3      Schalke 04       47  Bayern Munich       14\n",
       "4  Greuther Furth       46        Dresden       12"
      ]
     },
     "execution_count": 11,
     "metadata": {},
     "output_type": "execute_result"
    }
   ],
   "source": [
    "#total number of goals scored by the team during 2011\n",
    "cur.execute(\"\"\" SELECT HomeTeam, SUM(FTHG) AS ht_wins, AwayTeam, SUM(FTAG) AS at_wins\n",
    "FROM Matches\n",
    "\n",
    "WHERE Season = 2011\n",
    "GROUP BY HomeTeam\n",
    "ORDER BY SUM(FTHG) DESC;\"\"\")\n",
    "       \n",
    "dfGS = pd.DataFrame(cur.fetchall()) \n",
    "dfGS.columns = [i[0] for i in cur.description] \n",
    "dfGS.head()"
   ]
  },
  {
   "cell_type": "markdown",
   "metadata": {},
   "source": [
    "<b>TOTAL NUMBER OF WINS THE TEAM EARNED DURING THE 2011 SEASON"
   ]
  },
  {
   "cell_type": "markdown",
   "metadata": {},
   "source": []
  },
  {
   "cell_type": "code",
   "execution_count": 9,
   "metadata": {},
   "outputs": [
    {
     "data": {
      "text/html": [
       "<div>\n",
       "<style scoped>\n",
       "    .dataframe tbody tr th:only-of-type {\n",
       "        vertical-align: middle;\n",
       "    }\n",
       "\n",
       "    .dataframe tbody tr th {\n",
       "        vertical-align: top;\n",
       "    }\n",
       "\n",
       "    .dataframe thead th {\n",
       "        text-align: right;\n",
       "    }\n",
       "</style>\n",
       "<table border=\"1\" class=\"dataframe\">\n",
       "  <thead>\n",
       "    <tr style=\"text-align: right;\">\n",
       "      <th></th>\n",
       "      <th>HomeTeam</th>\n",
       "      <th>total_wins</th>\n",
       "      <th>total_draws</th>\n",
       "      <th>total_losses</th>\n",
       "      <th>GF</th>\n",
       "      <th>GA</th>\n",
       "      <th>GD</th>\n",
       "      <th>Pts</th>\n",
       "    </tr>\n",
       "  </thead>\n",
       "  <tbody>\n",
       "    <tr>\n",
       "      <td>0</td>\n",
       "      <td>Man City</td>\n",
       "      <td>28</td>\n",
       "      <td>5</td>\n",
       "      <td>5</td>\n",
       "      <td>93</td>\n",
       "      <td>29</td>\n",
       "      <td>64</td>\n",
       "      <td>33</td>\n",
       "    </tr>\n",
       "    <tr>\n",
       "      <td>1</td>\n",
       "      <td>Man United</td>\n",
       "      <td>28</td>\n",
       "      <td>5</td>\n",
       "      <td>5</td>\n",
       "      <td>89</td>\n",
       "      <td>33</td>\n",
       "      <td>56</td>\n",
       "      <td>33</td>\n",
       "    </tr>\n",
       "    <tr>\n",
       "      <td>2</td>\n",
       "      <td>Dortmund</td>\n",
       "      <td>25</td>\n",
       "      <td>6</td>\n",
       "      <td>3</td>\n",
       "      <td>80</td>\n",
       "      <td>25</td>\n",
       "      <td>55</td>\n",
       "      <td>31</td>\n",
       "    </tr>\n",
       "    <tr>\n",
       "      <td>3</td>\n",
       "      <td>Greuther Furth</td>\n",
       "      <td>20</td>\n",
       "      <td>10</td>\n",
       "      <td>4</td>\n",
       "      <td>73</td>\n",
       "      <td>27</td>\n",
       "      <td>46</td>\n",
       "      <td>30</td>\n",
       "    </tr>\n",
       "    <tr>\n",
       "      <td>4</td>\n",
       "      <td>Fortuna Dusseldorf</td>\n",
       "      <td>16</td>\n",
       "      <td>14</td>\n",
       "      <td>4</td>\n",
       "      <td>64</td>\n",
       "      <td>35</td>\n",
       "      <td>29</td>\n",
       "      <td>30</td>\n",
       "    </tr>\n",
       "  </tbody>\n",
       "</table>\n",
       "</div>"
      ],
      "text/plain": [
       "             HomeTeam  total_wins  total_draws  total_losses  GF  GA  GD  Pts\n",
       "0            Man City          28            5             5  93  29  64   33\n",
       "1          Man United          28            5             5  89  33  56   33\n",
       "2            Dortmund          25            6             3  80  25  55   31\n",
       "3      Greuther Furth          20           10             4  73  27  46   30\n",
       "4  Fortuna Dusseldorf          16           14             4  64  35  29   30"
      ]
     },
     "execution_count": 9,
     "metadata": {},
     "output_type": "execute_result"
    }
   ],
   "source": [
    "#total number of wins the team earned during the 2011 season\n",
    "\n",
    "cur.execute(\"\"\"SELECT HomeTeam,\n",
    "      \n",
    "(h_win + a_win) as total_wins,\n",
    "(h_draw + a_draw) as total_draws,\n",
    "(h_loss + a_loss) as total_losses,\n",
    "      \n",
    "(h_goals_for+a_goals_for) as GF,\n",
    "(h_goals_agst+a_goals_agst) as GA,\n",
    "(h_goals_for+a_goals_for-h_goals_agst-a_goals_agst) as GD,\n",
    "((h_win + a_win)+(h_draw + a_draw)) as Pts\n",
    "                    \n",
    "FROM\n",
    "                \n",
    "(SELECT Div, HomeTeam, \n",
    "SUM(CASE WHEN FTHG > FTAG THEN 1 ELSE 0 END) as h_win,\n",
    "SUM(CASE WHEN FTHG = FTAG THEN 1 ELSE 0 END) as h_draw,\n",
    "SUM(CASE WHEN FTHG < FTAG THEN 1 ELSE 0 END) as h_loss,\n",
    "SUM(FTHG) as h_goals_for,\n",
    "SUM(FTAG) as h_goals_agst\n",
    "\n",
    "FROM Matches\n",
    "WHERE Season = 2011\n",
    "GROUP BY HomeTeam\n",
    "ORDER BY HomeTeam)\n",
    "            \n",
    "JOIN\n",
    "            \n",
    "(SELECT AwayTeam, \n",
    "SUM(CASE WHEN FTAG > FTHG THEN 1 ELSE 0 END) as a_win,\n",
    "SUM(CASE WHEN FTAG = FTHG THEN 1 ELSE 0 END) as a_draw,\n",
    "SUM(CASE WHEN FTAG < FTHG THEN 1 ELSE 0 END) as a_loss,\n",
    "SUM(FTAG) as a_goals_for,\n",
    "SUM(FTHG) as a_goals_agst\n",
    "              \n",
    "FROM Matches\n",
    "WHERE Season = 2011\n",
    "GROUP BY AwayTeam\n",
    "ORDER BY AwayTeam)\n",
    "            \n",
    "ON (HomeTeam==AwayTeam)\n",
    "            \n",
    "\n",
    "ORDER BY Pts DESC, GD DESC, GF DESC\"\"\")\n",
    "       \n",
    "dfTWL = pd.DataFrame(cur.fetchall()) \n",
    "dfTWL.columns = [i[0] for i in cur.description]\n",
    "dfTWL.head()"
   ]
  },
  {
   "cell_type": "markdown",
   "metadata": {},
   "source": [
    "<b>HISTOGRAM VISUALIZATION WITH WINS AND LOSSES OF 2011"
   ]
  },
  {
   "cell_type": "markdown",
   "metadata": {},
   "source": [
    "A histogram of the team's wins and losses for the 2011 season"
   ]
  },
  {
   "cell_type": "code",
   "execution_count": 10,
   "metadata": {},
   "outputs": [
    {
     "data": {
      "image/png": "[encoded data removed]",
      "text/plain": [
       "<Figure size 1296x576 with 2 Axes>"
      ]
     },
     "metadata": {
      "needs_background": "light"
     },
     "output_type": "display_data"
    }
   ],
   "source": [
    "# A histogram visualization of the team's wins and losses for the 2011 season\n",
    "fig, axes = plt.subplots(ncols=2, nrows=1, figsize=(18, 8)) # Two figures side by side\n",
    "ax_lft = axes[0]\n",
    "dfTWL['total_wins'].hist(ax=ax_lft, color='blue', alpha=0.5)\n",
    "ax_lft.set_title('2011 Losses')\n",
    "ax_lft.set_xlabel('Team names')\n",
    "ax_lft.set_ylabel('Wins')\n",
    "\n",
    "ax_rght = axes[1]\n",
    "dfTWL['total_wins'].hist(ax=ax_rght, color='grey', alpha=0.5)\n",
    "ax_rght.set_title('2011 Wins')\n",
    "ax_rght.set_xlabel('Team names')\n",
    "ax_rght.set_ylabel('Losses');"
   ]
  },
  {
   "cell_type": "markdown",
   "metadata": {},
   "source": [
    "<B>EXPLORING THE DARKSKY API"
   ]
  },
  {
   "cell_type": "markdown",
   "metadata": {},
   "source": [
    "To get the percentage of the amount of games where it was raining or not, i explored the DarkSky API which provided the historical weather data for each of the 2011 dates."
   ]
  },
  {
   "cell_type": "code",
   "execution_count": 12,
   "metadata": {},
   "outputs": [
    {
     "data": {
      "text/plain": [
       "{'api_key': '50d59d5d17c163a2a460a8023009e953'}"
      ]
     },
     "execution_count": 12,
     "metadata": {},
     "output_type": "execute_result"
    }
   ],
   "source": [
    "#importing json file with api key\n",
    "import json\n",
    "def get_keys(path):\n",
    "    with open(path) as f:\n",
    "        return json.load(f)\n",
    "    \n",
    "#getting api key\n",
    "keys = get_keys(\"/Users/Isabel .LAPTOP-RN1IGMF0/OneDrive/Desktop/Projects/Project 2/module_2_project/.secret/darksky_api.json\")\n",
    "api_key = keys['api_key']\n",
    "keys"
   ]
  },
  {
   "cell_type": "code",
   "execution_count": 13,
   "metadata": {},
   "outputs": [
    {
     "data": {
      "text/plain": [
       "200"
      ]
     },
     "execution_count": 13,
     "metadata": {},
     "output_type": "execute_result"
    }
   ],
   "source": [
    "#getting requests\n",
    "import requests\n",
    "response = requests.get(\"https://api.darksky.net/forecast/90e2937454f78fc8a3aa3f6f0bcad17d/52.5200,13.4050,2011-12-11T12:00:00?currently,daily\")\n",
    "\n",
    "#getting status code\n",
    "response.status_code"
   ]
  },
  {
   "cell_type": "code",
   "execution_count": 14,
   "metadata": {},
   "outputs": [
    {
     "data": {
      "text/html": [
       "<div>\n",
       "<style scoped>\n",
       "    .dataframe tbody tr th:only-of-type {\n",
       "        vertical-align: middle;\n",
       "    }\n",
       "\n",
       "    .dataframe tbody tr th {\n",
       "        vertical-align: top;\n",
       "    }\n",
       "\n",
       "    .dataframe thead th {\n",
       "        text-align: right;\n",
       "    }\n",
       "</style>\n",
       "<table border=\"1\" class=\"dataframe\">\n",
       "  <thead>\n",
       "    <tr style=\"text-align: right;\">\n",
       "      <th></th>\n",
       "      <th>time</th>\n",
       "      <th>summary</th>\n",
       "      <th>icon</th>\n",
       "      <th>sunriseTime</th>\n",
       "      <th>sunsetTime</th>\n",
       "      <th>moonPhase</th>\n",
       "      <th>precipIntensity</th>\n",
       "      <th>precipIntensityMax</th>\n",
       "      <th>precipProbability</th>\n",
       "      <th>temperatureHigh</th>\n",
       "      <th>...</th>\n",
       "      <th>uvIndexTime</th>\n",
       "      <th>visibility</th>\n",
       "      <th>temperatureMin</th>\n",
       "      <th>temperatureMinTime</th>\n",
       "      <th>temperatureMax</th>\n",
       "      <th>temperatureMaxTime</th>\n",
       "      <th>apparentTemperatureMin</th>\n",
       "      <th>apparentTemperatureMinTime</th>\n",
       "      <th>apparentTemperatureMax</th>\n",
       "      <th>apparentTemperatureMaxTime</th>\n",
       "    </tr>\n",
       "  </thead>\n",
       "  <tbody>\n",
       "    <tr>\n",
       "      <td>0</td>\n",
       "      <td>1323558000</td>\n",
       "      <td>Mostly cloudy throughout the day.</td>\n",
       "      <td>partly-cloudy-day</td>\n",
       "      <td>1323587280</td>\n",
       "      <td>1323615240</td>\n",
       "      <td>0.54</td>\n",
       "      <td>0</td>\n",
       "      <td>0</td>\n",
       "      <td>0</td>\n",
       "      <td>41.55</td>\n",
       "      <td>...</td>\n",
       "      <td>1323601080</td>\n",
       "      <td>6.212</td>\n",
       "      <td>32.7</td>\n",
       "      <td>1323588960</td>\n",
       "      <td>41.55</td>\n",
       "      <td>1323605040</td>\n",
       "      <td>25.47</td>\n",
       "      <td>1323586860</td>\n",
       "      <td>34.94</td>\n",
       "      <td>1323605040</td>\n",
       "    </tr>\n",
       "  </tbody>\n",
       "</table>\n",
       "<p>1 rows × 35 columns</p>\n",
       "</div>"
      ],
      "text/plain": [
       "         time                            summary               icon  \\\n",
       "0  1323558000  Mostly cloudy throughout the day.  partly-cloudy-day   \n",
       "\n",
       "   sunriseTime  sunsetTime  moonPhase  precipIntensity  precipIntensityMax  \\\n",
       "0   1323587280  1323615240       0.54                0                   0   \n",
       "\n",
       "   precipProbability  temperatureHigh  ...  uvIndexTime  visibility  \\\n",
       "0                  0            41.55  ...   1323601080       6.212   \n",
       "\n",
       "   temperatureMin  temperatureMinTime  temperatureMax  temperatureMaxTime  \\\n",
       "0            32.7          1323588960           41.55          1323605040   \n",
       "\n",
       "   apparentTemperatureMin  apparentTemperatureMinTime  apparentTemperatureMax  \\\n",
       "0                   25.47                  1323586860                   34.94   \n",
       "\n",
       "   apparentTemperatureMaxTime  \n",
       "0                  1323605040  \n",
       "\n",
       "[1 rows x 35 columns]"
      ]
     },
     "execution_count": 14,
     "metadata": {},
     "output_type": "execute_result"
    }
   ],
   "source": [
    "#selecting dataframe and the data dictionary within\n",
    "df_weather = pd.DataFrame.from_dict(response.json()['daily']['data'])\n",
    "df_weather.head()"
   ]
  },
  {
   "cell_type": "markdown",
   "metadata": {},
   "source": [
    "<b>IMPORTING TO MONGODB"
   ]
  },
  {
   "cell_type": "markdown",
   "metadata": {},
   "source": [
    "Once all of the data required was generated, i stored everything within mongodb"
   ]
  },
  {
   "cell_type": "code",
   "execution_count": null,
   "metadata": {},
   "outputs": [],
   "source": [
    "import pymongo\n",
    "from pymongo import MongoClient\n",
    "\n",
    "myclient = pymongo.MongoClient('mongodb://localhost:27017')\n",
    "mydb = myclient['lab_db']"
   ]
  },
  {
   "cell_type": "code",
   "execution_count": null,
   "metadata": {},
   "outputs": [],
   "source": [
    "FootballWeather = mydb['collection']"
   ]
  },
  {
   "cell_type": "code",
   "execution_count": null,
   "metadata": {},
   "outputs": [],
   "source": [
    "Teams = {'Team name': df_uniqueTN}\n",
    "TGS = {'Total goals scored': dfGS}\n",
    "TWL = {'total wins losses': dfTWL}\n",
    "Rain = {'rain percentage': dfTWL}\n",
    "         \n",
    "all_records = [Teams, TGS, TWL, Rain]\n",
    "insertion_results = FootballWeather.insert_many(all_records)"
   ]
  }
 ],
 "metadata": {
  "kernelspec": {
   "display_name": "Python 3",
   "language": "python",
   "name": "python3"
  },
  "language_info": {
   "codemirror_mode": {
    "name": "ipython",
    "version": 3
   },
   "file_extension": ".py",
   "mimetype": "text/x-python",
   "name": "python",
   "nbconvert_exporter": "python",
   "pygments_lexer": "ipython3",
   "version": "3.7.4"
  }
 },
 "nbformat": 4,
 "nbformat_minor": 2
}
